{
 "cells": [
  {
   "cell_type": "markdown",
   "id": "8c60cba8",
   "metadata": {},
   "source": [
    "# SeqTech 2024 Data Exploration"
   ]
  },
  {
   "cell_type": "markdown",
   "id": "88bb6a13",
   "metadata": {},
   "source": [
    "<a href=\"https://scanpy.readthedocs.io/en/stable/index.html\">\n",
    "    <img src=\"https://scanpy.readthedocs.io/en/stable/_static/Scanpy_Logo_BrightFG.svg\" alt=\"Scanpy\" style=\"width: 400px; float: left;\"/>\n",
    "</a>\n"
   ]
  },
  {
   "cell_type": "markdown",
   "id": "c7fab9dc",
   "metadata": {},
   "source": [
    "This tutorial will make heavy use of \"Scanpy\" single-cell analysis package for Python.\n",
    "https://scanpy.readthedocs.io/en/stable/"
   ]
  },
  {
   "cell_type": "markdown",
   "id": "c14f0857",
   "metadata": {},
   "source": [
    "# AnnData Object Structure\n",
    "Scanpy's core data structure is called [**AnnData**](https://anndata.readthedocs.io/en/latest/), for \"Annotated Data\". It was purpose-built for Scanpy, but in practice you can see it is an extremely flexible and generalizable data structure that you could use for all sorts of data science applications. That said, there are certain limitations to the `anndata` format, and some pipelines are starting to replace it with even more versatile structures, like [muon](https://muon.scverse.org/).   "
   ]
  },
  {
   "cell_type": "markdown",
   "id": "09903a26",
   "metadata": {},
   "source": [
    "<a href=\"https://anndata.readthedocs.io/en/latest/\">\n",
    "    <img src=\"https://anndata.readthedocs.io/en/latest/_images/anndata_schema.svg\" width=400, align=left>\n",
    "</a>\n"
   ]
  },
  {
   "cell_type": "markdown",
   "id": "fa9733e3",
   "metadata": {},
   "source": [
    "<img align='left' src='https://raw.githubusercontent.com/jpreall/SeqTech_2023/main/images/Demux_schematic.png' width=600 />"
   ]
  },
  {
   "cell_type": "markdown",
   "id": "c296c166",
   "metadata": {},
   "source": [
    "# Import Libraries"
   ]
  },
  {
   "cell_type": "code",
   "execution_count": 1,
   "id": "03e85ef2",
   "metadata": {},
   "outputs": [
    {
     "name": "stdout",
     "output_type": "stream",
     "text": [
      "Running Scanpy 1.10.3, on 2024-11-11 15:33.\n"
     ]
    },
    {
     "name": "stderr",
     "output_type": "stream",
     "text": [
      "/opt/miniconda3/envs/SeqTech24/lib/python3.10/site-packages/tqdm/auto.py:21: TqdmWarning: IProgress not found. Please update jupyter and ipywidgets. See https://ipywidgets.readthedocs.io/en/stable/user_install.html\n",
      "  from .autonotebook import tqdm as notebook_tqdm\n"
     ]
    },
    {
     "name": "stdout",
     "output_type": "stream",
     "text": [
      "scanpy==1.10.3 anndata==0.10.9 umap==0.5.7 numpy==2.0.2 scipy==1.14.1 pandas==2.2.3 scikit-learn==1.5.2 statsmodels==0.14.4 igraph==0.11.8 pynndescent==0.5.13\n"
     ]
    }
   ],
   "source": [
    "import os, sys, glob, shutil\n",
    "import numpy as np\n",
    "import pandas as pd\n",
    "import seaborn as sns\n",
    "import matplotlib.pyplot as pl\n",
    "import scanpy as sc\n",
    "\n",
    "# Which version of scanpy are we running?\n",
    "sc.logging.print_version_and_date()\n",
    "\n",
    "#Which versions other dependencies?\n",
    "sc.logging.print_header()\n",
    "\n",
    "# Set some defaults for displaying images in the notebook\n",
    "# low dpi (dots per inch) yields small inline figures\n",
    "sc.settings.set_figure_params(dpi=80,color_map='Reds')\n",
    "pl.rcParams['figure.figsize'] = [4,4]\n",
    "\n",
    "\n",
    "#sys.path.append('/grid/preall/home/jpreall/jpplot/')\n",
    "sys.path.append('/Users/jpreall/Dropbox/Preall_Lab/Preall/scripts/jpplot/master/')\n",
    "import jpplot\n",
    "cj = jpplot.cmapjp()\n",
    "\n"
   ]
  },
  {
   "cell_type": "markdown",
   "id": "adce8797",
   "metadata": {},
   "source": [
    "# Load Data"
   ]
  },
  {
   "cell_type": "code",
   "execution_count": 55,
   "id": "b4ef7f3e",
   "metadata": {},
   "outputs": [
    {
     "data": {
      "text/plain": [
       "['.DS_Store',\n",
       " 'count',\n",
       " 'demux',\n",
       " 'aggr',\n",
       " 'SeqTech_2023_Data_Exploration.ipynb',\n",
       " '.ipynb_checkpoints',\n",
       " 'donor_id.csv',\n",
       " 'SeqTech_2023_demux.ipynb']"
      ]
     },
     "execution_count": 55,
     "metadata": {},
     "output_type": "execute_result"
    }
   ],
   "source": [
    "datapath = '/Users/jpreall/Dropbox/Preall_Lab/SeqTech/SeqTech2023/data/AWS_package'\n",
    "\n",
    "os.listdir(datapath)"
   ]
  },
  {
   "cell_type": "code",
   "execution_count": 56,
   "id": "blond-symposium",
   "metadata": {},
   "outputs": [
    {
     "data": {
      "text/plain": [
       "['.DS_Store', 'SeqTech23_BCR', 'SeqTech23_TCR', 'SeqTech23_GEX']"
      ]
     },
     "execution_count": 56,
     "metadata": {},
     "output_type": "execute_result"
    }
   ],
   "source": [
    "datapath = '/Users/jpreall/Dropbox/Preall_Lab/SeqTech/SeqTech2023/data/AWS_package'\n",
    "os.listdir(datapath + '/aggr/')"
   ]
  },
  {
   "cell_type": "code",
   "execution_count": 57,
   "id": "4ac36045",
   "metadata": {},
   "outputs": [
    {
     "data": {
      "text/plain": [
       "['summary.json',\n",
       " 'filtered_feature_bc_matrix',\n",
       " 'analysis',\n",
       " 'cloupe.cloupe',\n",
       " 'filtered_feature_bc_matrix.h5']"
      ]
     },
     "execution_count": 57,
     "metadata": {},
     "output_type": "execute_result"
    }
   ],
   "source": [
    "gexdir = datapath + '/aggr/SeqTech23_GEX/outs/count/'\n",
    "tcrdir = datapath + '/aggr/SeqTech23_TCR/outs/vdj_t/'\n",
    "bcrdir = datapath + '/aggr/SeqTech23_BCR/outs/vdj_b'\n",
    "os.listdir(gexdir)"
   ]
  },
  {
   "cell_type": "code",
   "execution_count": 58,
   "id": "subjective-seminar",
   "metadata": {},
   "outputs": [
    {
     "name": "stderr",
     "output_type": "stream",
     "text": [
      "/opt/miniconda3/envs/SeqTech24/lib/python3.10/site-packages/anndata/_core/anndata.py:1756: UserWarning: Variable names are not unique. To make them unique, call `.var_names_make_unique`.\n",
      "  utils.warn_names_duplicates(\"var\")\n",
      "/opt/miniconda3/envs/SeqTech24/lib/python3.10/site-packages/anndata/_core/anndata.py:1756: UserWarning: Variable names are not unique. To make them unique, call `.var_names_make_unique`.\n",
      "  utils.warn_names_duplicates(\"var\")\n"
     ]
    }
   ],
   "source": [
    "adata = sc.read_10x_h5(gexdir + 'filtered_feature_bc_matrix.h5')"
   ]
  },
  {
   "cell_type": "code",
   "execution_count": 59,
   "id": "continent-condition",
   "metadata": {},
   "outputs": [
    {
     "data": {
      "text/plain": [
       "TMSB15B           2\n",
       "ARMCX5-GPRASP2    2\n",
       "GGT1              2\n",
       "GOLGA8M           2\n",
       "HSPA14            2\n",
       "                 ..\n",
       "AC141272.1        1\n",
       "AC023491.2        1\n",
       "AC007325.1        1\n",
       "AC007325.4        1\n",
       "AC114498.1        1\n",
       "Name: count, Length: 36591, dtype: int64"
      ]
     },
     "execution_count": 59,
     "metadata": {},
     "output_type": "execute_result"
    }
   ],
   "source": [
    "pd.Series(adata.var_names).value_counts()"
   ]
  },
  {
   "cell_type": "code",
   "execution_count": 60,
   "id": "broadband-merchant",
   "metadata": {},
   "outputs": [
    {
     "data": {
      "text/html": [
       "<div>\n",
       "<style scoped>\n",
       "    .dataframe tbody tr th:only-of-type {\n",
       "        vertical-align: middle;\n",
       "    }\n",
       "\n",
       "    .dataframe tbody tr th {\n",
       "        vertical-align: top;\n",
       "    }\n",
       "\n",
       "    .dataframe thead th {\n",
       "        text-align: right;\n",
       "    }\n",
       "</style>\n",
       "<table border=\"1\" class=\"dataframe\">\n",
       "  <thead>\n",
       "    <tr style=\"text-align: right;\">\n",
       "      <th></th>\n",
       "      <th>gene_ids</th>\n",
       "      <th>feature_types</th>\n",
       "      <th>genome</th>\n",
       "      <th>pattern</th>\n",
       "      <th>read</th>\n",
       "      <th>sequence</th>\n",
       "    </tr>\n",
       "  </thead>\n",
       "  <tbody>\n",
       "    <tr>\n",
       "      <th>MIR1302-2HG</th>\n",
       "      <td>ENSG00000243485</td>\n",
       "      <td>Gene Expression</td>\n",
       "      <td>GRCh38</td>\n",
       "      <td></td>\n",
       "      <td></td>\n",
       "      <td></td>\n",
       "    </tr>\n",
       "    <tr>\n",
       "      <th>FAM138A</th>\n",
       "      <td>ENSG00000237613</td>\n",
       "      <td>Gene Expression</td>\n",
       "      <td>GRCh38</td>\n",
       "      <td></td>\n",
       "      <td></td>\n",
       "      <td></td>\n",
       "    </tr>\n",
       "    <tr>\n",
       "      <th>OR4F5</th>\n",
       "      <td>ENSG00000186092</td>\n",
       "      <td>Gene Expression</td>\n",
       "      <td>GRCh38</td>\n",
       "      <td></td>\n",
       "      <td></td>\n",
       "      <td></td>\n",
       "    </tr>\n",
       "  </tbody>\n",
       "</table>\n",
       "</div>"
      ],
      "text/plain": [
       "                    gene_ids    feature_types  genome pattern read sequence\n",
       "MIR1302-2HG  ENSG00000243485  Gene Expression  GRCh38                      \n",
       "FAM138A      ENSG00000237613  Gene Expression  GRCh38                      \n",
       "OR4F5        ENSG00000186092  Gene Expression  GRCh38                      "
      ]
     },
     "execution_count": 60,
     "metadata": {},
     "output_type": "execute_result"
    }
   ],
   "source": [
    "adata.var[:3]"
   ]
  },
  {
   "cell_type": "code",
   "execution_count": 61,
   "id": "convenient-murray",
   "metadata": {},
   "outputs": [
    {
     "data": {
      "text/html": [
       "<div>\n",
       "<style scoped>\n",
       "    .dataframe tbody tr th:only-of-type {\n",
       "        vertical-align: middle;\n",
       "    }\n",
       "\n",
       "    .dataframe tbody tr th {\n",
       "        vertical-align: top;\n",
       "    }\n",
       "\n",
       "    .dataframe thead th {\n",
       "        text-align: right;\n",
       "    }\n",
       "</style>\n",
       "<table border=\"1\" class=\"dataframe\">\n",
       "  <thead>\n",
       "    <tr style=\"text-align: right;\">\n",
       "      <th></th>\n",
       "    </tr>\n",
       "  </thead>\n",
       "  <tbody>\n",
       "    <tr>\n",
       "      <th>AAACCTGAGACCTAGG-1</th>\n",
       "    </tr>\n",
       "    <tr>\n",
       "      <th>AAACCTGAGACTGTAA-1</th>\n",
       "    </tr>\n",
       "    <tr>\n",
       "      <th>AAACCTGAGGTCATCT-1</th>\n",
       "    </tr>\n",
       "    <tr>\n",
       "      <th>AAACCTGAGTATTGGA-1</th>\n",
       "    </tr>\n",
       "  </tbody>\n",
       "</table>\n",
       "</div>"
      ],
      "text/plain": [
       "Empty DataFrame\n",
       "Columns: []\n",
       "Index: [AAACCTGAGACCTAGG-1, AAACCTGAGACTGTAA-1, AAACCTGAGGTCATCT-1, AAACCTGAGTATTGGA-1]"
      ]
     },
     "execution_count": 61,
     "metadata": {},
     "output_type": "execute_result"
    }
   ],
   "source": [
    "adata.obs[:4]"
   ]
  },
  {
   "cell_type": "code",
   "execution_count": 4,
   "id": "6cfbca07",
   "metadata": {},
   "outputs": [
    {
     "name": "stderr",
     "output_type": "stream",
     "text": [
      "/opt/miniconda3/envs/SeqTech24/lib/python3.10/site-packages/anndata/_core/anndata.py:1756: UserWarning: Variable names are not unique. To make them unique, call `.var_names_make_unique`.\n",
      "  utils.warn_names_duplicates(\"var\")\n",
      "/opt/miniconda3/envs/SeqTech24/lib/python3.10/site-packages/anndata/_core/anndata.py:1756: UserWarning: Variable names are not unique. To make them unique, call `.var_names_make_unique`.\n",
      "  utils.warn_names_duplicates(\"var\")\n"
     ]
    }
   ],
   "source": [
    "#adata = jpplot.load_h5_elzar(gexdir + 'filtered_feature_bc_matrix.h5')\n",
    "adata = sc.read_10x_h5(gexdir + 'filtered_feature_bc_matrix.h5')\n",
    "adata.var_names_make_unique()\n",
    "#adata.obs['Replicate'] = adata.obs['Library_ID'].str.split('_').str[1]\n",
    "adata.obs['Replicate'] = adata.obs.index.str.split('-').str[-1]\n",
    "#adata.obs.index = adata.obs.index.str.split('-Seq').str[0]\n",
    "\n",
    "\n",
    "## Demux\n",
    "demux_dir = f'{homedir}/demux/published_results/'\n",
    "donor_ids_files = glob.glob(demux_dir + 'Seq*outdir/vireo_results/donor_ids*')\n",
    "donors = pd.DataFrame()\n",
    "for n,i in enumerate(sorted(donor_ids_files)):\n",
    "    fullsamp = i.split('/')[-3]\n",
    "    samp = fullsamp.split('_')[1]\n",
    "    tmpdf = pd.read_table(i, index_col=0)\n",
    "    tmpdf.index = tmpdf.index.str.split('-').str[0] + f'-{n+1}'\n",
    "    donors = pd.concat([donors,tmpdf])\n",
    "    \n",
    "donors = donors.loc[adata.obs_names]\n",
    "adata.obs[donors.columns] = donors\n",
    "adata.obs['Sample'] = adata.obs['best_singlet']\n",
    "\n"
   ]
  },
  {
   "cell_type": "raw",
   "id": "induced-personality",
   "metadata": {},
   "source": [
    "z = adata.obs['donor_id']\n",
    "z.index = z.index.rename(\"Barcodes\")\n",
    "z.to_csv('SeqTech2023_donorid.csv')\n",
    "pd.read_csv('SeqTech2023_donorid.csv')"
   ]
  },
  {
   "cell_type": "raw",
   "id": "alien-construction",
   "metadata": {},
   "source": [
    "z = adata.obs['Sample']\n",
    "z.index = z.index.rename(\"Barcodes\")\n",
    "z.to_csv('SeqTech2023_demux.csv')\n",
    "pd.read_csv('SeqTech2023_demux.csv')"
   ]
  },
  {
   "cell_type": "code",
   "execution_count": 5,
   "id": "9c011ed6",
   "metadata": {},
   "outputs": [
    {
     "data": {
      "text/plain": [
       "<Compressed Sparse Row sparse matrix of dtype 'float32'\n",
       "\twith 16662221 stored elements and shape (16614, 36601)>"
      ]
     },
     "execution_count": 5,
     "metadata": {},
     "output_type": "execute_result"
    }
   ],
   "source": [
    "# Let's look at what is currently stored in .X:\n",
    "adata.X"
   ]
  },
  {
   "cell_type": "code",
   "execution_count": 6,
   "id": "656c86ce",
   "metadata": {},
   "outputs": [
    {
     "name": "stdout",
     "output_type": "stream",
     "text": [
      "Layers with keys: counts\n"
     ]
    }
   ],
   "source": [
    "# Let's stash the raw counts as integers.\n",
    "# Remember to call .copy() -- this ensures that the new thing being created isn't\n",
    "# just a passive pointer to the original data, but is in fact a completely separate new object.\n",
    "adata.layers['counts'] = adata.X.astype('int32').copy()\n",
    "\n",
    "# Check that we have added the new layer:\n",
    "print(adata.layers)"
   ]
  },
  {
   "cell_type": "code",
   "execution_count": 7,
   "id": "5d838ab0",
   "metadata": {},
   "outputs": [
    {
     "data": {
      "text/plain": [
       "<Compressed Sparse Row sparse matrix of dtype 'int32'\n",
       "\twith 16662221 stored elements and shape (16614, 36601)>"
      ]
     },
     "execution_count": 7,
     "metadata": {},
     "output_type": "execute_result"
    }
   ],
   "source": [
    "adata.layers['counts']"
   ]
  },
  {
   "cell_type": "markdown",
   "id": "ffbf8ebc",
   "metadata": {},
   "source": [
    "## Cell-level metadata\n",
    "\n",
    "Any per-cell annotation is stored in the **.obs** dataframe. This is a standard Pandas dataframe that can store cell type labels, numerical measures like UMI counts, sample metadata, or basically anything you might store in an Excel spreadsheet."
   ]
  },
  {
   "cell_type": "code",
   "execution_count": 8,
   "id": "b65cab2e",
   "metadata": {},
   "outputs": [],
   "source": [
    "# Let's save a count of how many UMIs and unique genes are found in each cell:\n",
    "# We will use Numpy for this simple math step\n",
    "# The .A1 at the end reformats the data into a single 1-D flat array, rather than as a 1x5404 vertical stack.\n",
    "# This is a dumb annoying thing about how Numpy arrays work\n",
    "\n",
    "adata.obs['n_counts'] = np.sum(adata.layers['counts'], axis=1).A1\n",
    "\n",
    "# Let's also save a count of the number of unique genes found in each cell:\n",
    "# This counts how many genes have a UMI count > 0\n",
    "adata.obs['n_genes'] = np.sum(adata.layers['counts'] > 0, axis=1).A1\n",
    "\n",
    "# For good measure, let's also sort the UMI counts in log space\n",
    "adata.obs['logUMIs'] = np.log10(adata.obs['n_counts'])"
   ]
  },
  {
   "cell_type": "code",
   "execution_count": 9,
   "id": "df966036",
   "metadata": {},
   "outputs": [
    {
     "data": {
      "image/png": "[encoded data removed]",
      "text/plain": [
       "<Figure size 372.24x320 with 1 Axes>"
      ]
     },
     "metadata": {
      "image/png": {
       "height": 304,
       "width": 289
      }
     },
     "output_type": "display_data"
    }
   ],
   "source": [
    "sc.pl.violin(adata, groupby='Replicate', keys='logUMIs')"
   ]
  },
  {
   "cell_type": "code",
   "execution_count": 10,
   "id": "78756048",
   "metadata": {},
   "outputs": [
    {
     "data": {
      "text/html": [
       "<div>\n",
       "<style scoped>\n",
       "    .dataframe tbody tr th:only-of-type {\n",
       "        vertical-align: middle;\n",
       "    }\n",
       "\n",
       "    .dataframe tbody tr th {\n",
       "        vertical-align: top;\n",
       "    }\n",
       "\n",
       "    .dataframe thead th {\n",
       "        text-align: right;\n",
       "    }\n",
       "</style>\n",
       "<table border=\"1\" class=\"dataframe\">\n",
       "  <thead>\n",
       "    <tr style=\"text-align: right;\">\n",
       "      <th></th>\n",
       "      <th>Replicate</th>\n",
       "      <th>donor_id</th>\n",
       "      <th>prob_max</th>\n",
       "      <th>prob_doublet</th>\n",
       "      <th>n_vars</th>\n",
       "      <th>best_singlet</th>\n",
       "      <th>best_doublet</th>\n",
       "      <th>doublet_logLikRatio</th>\n",
       "      <th>Sample</th>\n",
       "      <th>n_counts</th>\n",
       "      <th>n_genes</th>\n",
       "      <th>logUMIs</th>\n",
       "    </tr>\n",
       "  </thead>\n",
       "  <tbody>\n",
       "    <tr>\n",
       "      <th>AAACCTGAGACCTAGG-1</th>\n",
       "      <td>1</td>\n",
       "      <td>Osteo</td>\n",
       "      <td>1.000</td>\n",
       "      <td>4.900000e-12</td>\n",
       "      <td>143</td>\n",
       "      <td>Osteo</td>\n",
       "      <td>Celiac,Osteo</td>\n",
       "      <td>-23.459</td>\n",
       "      <td>Osteo</td>\n",
       "      <td>1782</td>\n",
       "      <td>1093</td>\n",
       "      <td>3.250908</td>\n",
       "    </tr>\n",
       "    <tr>\n",
       "      <th>AAACCTGAGACTGTAA-1</th>\n",
       "      <td>1</td>\n",
       "      <td>Celiac</td>\n",
       "      <td>1.000</td>\n",
       "      <td>4.220000e-05</td>\n",
       "      <td>58</td>\n",
       "      <td>Celiac</td>\n",
       "      <td>Celiac,Osteo</td>\n",
       "      <td>-7.491</td>\n",
       "      <td>Celiac</td>\n",
       "      <td>601</td>\n",
       "      <td>460</td>\n",
       "      <td>2.778874</td>\n",
       "    </tr>\n",
       "    <tr>\n",
       "      <th>AAACCTGAGGTCATCT-1</th>\n",
       "      <td>1</td>\n",
       "      <td>Osteo</td>\n",
       "      <td>0.979</td>\n",
       "      <td>1.810000e-02</td>\n",
       "      <td>33</td>\n",
       "      <td>Osteo</td>\n",
       "      <td>Celiac,Osteo</td>\n",
       "      <td>-1.408</td>\n",
       "      <td>Osteo</td>\n",
       "      <td>506</td>\n",
       "      <td>392</td>\n",
       "      <td>2.704151</td>\n",
       "    </tr>\n",
       "    <tr>\n",
       "      <th>AAACCTGAGTATTGGA-1</th>\n",
       "      <td>1</td>\n",
       "      <td>Healthy</td>\n",
       "      <td>1.000</td>\n",
       "      <td>1.500000e-05</td>\n",
       "      <td>63</td>\n",
       "      <td>Healthy</td>\n",
       "      <td>Healthy,Osteo</td>\n",
       "      <td>-8.527</td>\n",
       "      <td>Healthy</td>\n",
       "      <td>668</td>\n",
       "      <td>521</td>\n",
       "      <td>2.824776</td>\n",
       "    </tr>\n",
       "    <tr>\n",
       "      <th>AAACCTGAGTCCAGGA-1</th>\n",
       "      <td>1</td>\n",
       "      <td>Osteo</td>\n",
       "      <td>1.000</td>\n",
       "      <td>1.880000e-04</td>\n",
       "      <td>66</td>\n",
       "      <td>Osteo</td>\n",
       "      <td>Celiac,Osteo</td>\n",
       "      <td>-5.999</td>\n",
       "      <td>Osteo</td>\n",
       "      <td>544</td>\n",
       "      <td>400</td>\n",
       "      <td>2.735599</td>\n",
       "    </tr>\n",
       "  </tbody>\n",
       "</table>\n",
       "</div>"
      ],
      "text/plain": [
       "                   Replicate donor_id  prob_max  prob_doublet  n_vars  \\\n",
       "AAACCTGAGACCTAGG-1         1    Osteo     1.000  4.900000e-12     143   \n",
       "AAACCTGAGACTGTAA-1         1   Celiac     1.000  4.220000e-05      58   \n",
       "AAACCTGAGGTCATCT-1         1    Osteo     0.979  1.810000e-02      33   \n",
       "AAACCTGAGTATTGGA-1         1  Healthy     1.000  1.500000e-05      63   \n",
       "AAACCTGAGTCCAGGA-1         1    Osteo     1.000  1.880000e-04      66   \n",
       "\n",
       "                   best_singlet   best_doublet  doublet_logLikRatio   Sample  \\\n",
       "AAACCTGAGACCTAGG-1        Osteo   Celiac,Osteo              -23.459    Osteo   \n",
       "AAACCTGAGACTGTAA-1       Celiac   Celiac,Osteo               -7.491   Celiac   \n",
       "AAACCTGAGGTCATCT-1        Osteo   Celiac,Osteo               -1.408    Osteo   \n",
       "AAACCTGAGTATTGGA-1      Healthy  Healthy,Osteo               -8.527  Healthy   \n",
       "AAACCTGAGTCCAGGA-1        Osteo   Celiac,Osteo               -5.999    Osteo   \n",
       "\n",
       "                    n_counts  n_genes   logUMIs  \n",
       "AAACCTGAGACCTAGG-1      1782     1093  3.250908  \n",
       "AAACCTGAGACTGTAA-1       601      460  2.778874  \n",
       "AAACCTGAGGTCATCT-1       506      392  2.704151  \n",
       "AAACCTGAGTATTGGA-1       668      521  2.824776  \n",
       "AAACCTGAGTCCAGGA-1       544      400  2.735599  "
      ]
     },
     "execution_count": 10,
     "metadata": {},
     "output_type": "execute_result"
    }
   ],
   "source": [
    "# Let's see what that just added:\n",
    "adata.obs[:5]"
   ]
  },
  {
   "cell_type": "code",
   "execution_count": 11,
   "id": "found-coverage",
   "metadata": {},
   "outputs": [
    {
     "data": {
      "text/html": [
       "<div>\n",
       "<style scoped>\n",
       "    .dataframe tbody tr th:only-of-type {\n",
       "        vertical-align: middle;\n",
       "    }\n",
       "\n",
       "    .dataframe tbody tr th {\n",
       "        vertical-align: top;\n",
       "    }\n",
       "\n",
       "    .dataframe thead th {\n",
       "        text-align: right;\n",
       "    }\n",
       "</style>\n",
       "<table border=\"1\" class=\"dataframe\">\n",
       "  <thead>\n",
       "    <tr style=\"text-align: right;\">\n",
       "      <th></th>\n",
       "      <th>Barcode</th>\n",
       "      <th>donor_id</th>\n",
       "    </tr>\n",
       "  </thead>\n",
       "  <tbody>\n",
       "    <tr>\n",
       "      <th>0</th>\n",
       "      <td>AAACCTGAGACCTAGG-1</td>\n",
       "      <td>Osteo</td>\n",
       "    </tr>\n",
       "    <tr>\n",
       "      <th>1</th>\n",
       "      <td>AAACCTGAGACTGTAA-1</td>\n",
       "      <td>Celiac</td>\n",
       "    </tr>\n",
       "    <tr>\n",
       "      <th>2</th>\n",
       "      <td>AAACCTGAGGTCATCT-1</td>\n",
       "      <td>Osteo</td>\n",
       "    </tr>\n",
       "    <tr>\n",
       "      <th>3</th>\n",
       "      <td>AAACCTGAGTATTGGA-1</td>\n",
       "      <td>Healthy</td>\n",
       "    </tr>\n",
       "    <tr>\n",
       "      <th>4</th>\n",
       "      <td>AAACCTGAGTCCAGGA-1</td>\n",
       "      <td>Osteo</td>\n",
       "    </tr>\n",
       "    <tr>\n",
       "      <th>...</th>\n",
       "      <td>...</td>\n",
       "      <td>...</td>\n",
       "    </tr>\n",
       "    <tr>\n",
       "      <th>16609</th>\n",
       "      <td>TTTGTCAGTTAAGGGC-2</td>\n",
       "      <td>Rheuma</td>\n",
       "    </tr>\n",
       "    <tr>\n",
       "      <th>16610</th>\n",
       "      <td>TTTGTCATCATAACCG-2</td>\n",
       "      <td>Osteo</td>\n",
       "    </tr>\n",
       "    <tr>\n",
       "      <th>16611</th>\n",
       "      <td>TTTGTCATCCTCTAGC-2</td>\n",
       "      <td>Celiac</td>\n",
       "    </tr>\n",
       "    <tr>\n",
       "      <th>16612</th>\n",
       "      <td>TTTGTCATCGGAGCAA-2</td>\n",
       "      <td>Celiac</td>\n",
       "    </tr>\n",
       "    <tr>\n",
       "      <th>16613</th>\n",
       "      <td>TTTGTCATCTCGTTTA-2</td>\n",
       "      <td>unassigned</td>\n",
       "    </tr>\n",
       "  </tbody>\n",
       "</table>\n",
       "<p>16614 rows × 2 columns</p>\n",
       "</div>"
      ],
      "text/plain": [
       "                  Barcode    donor_id\n",
       "0      AAACCTGAGACCTAGG-1       Osteo\n",
       "1      AAACCTGAGACTGTAA-1      Celiac\n",
       "2      AAACCTGAGGTCATCT-1       Osteo\n",
       "3      AAACCTGAGTATTGGA-1     Healthy\n",
       "4      AAACCTGAGTCCAGGA-1       Osteo\n",
       "...                   ...         ...\n",
       "16609  TTTGTCAGTTAAGGGC-2      Rheuma\n",
       "16610  TTTGTCATCATAACCG-2       Osteo\n",
       "16611  TTTGTCATCCTCTAGC-2      Celiac\n",
       "16612  TTTGTCATCGGAGCAA-2      Celiac\n",
       "16613  TTTGTCATCTCGTTTA-2  unassigned\n",
       "\n",
       "[16614 rows x 2 columns]"
      ]
     },
     "execution_count": 11,
     "metadata": {},
     "output_type": "execute_result"
    }
   ],
   "source": [
    "outfile = f'{homedir}/donor_id.csv'\n",
    "towrite = adata.obs['donor_id']\n",
    "towrite.index = towrite.index.rename('Barcode')\n",
    "towrite.to_csv(outfile)\n",
    "pd.read_csv(outfile)"
   ]
  },
  {
   "cell_type": "markdown",
   "id": "ac0005c7",
   "metadata": {},
   "source": [
    "### Mitochondrial Genes\n",
    "To help identify dead or dying cells, it is common to assess the fraction of reads coming from mitochondria, as we discussed in class. To do this, you need to know which genes are encoded by the mitochondrial genome.\n",
    "\n",
    "One way to do this would be to use a package like GTFParse to read the transcriptome GTF file that was used to build the Cellranger reference, and pull out all the genes that are on chromosome 'MT'.  \n",
    "\n",
    "Fortuntely, the human and mouse genomes make life easier. All human mitochondrial genes start with **'MT-'** and all mouse ones start with **'mt-'**"
   ]
  },
  {
   "cell_type": "code",
   "execution_count": 12,
   "id": "8cbe1147",
   "metadata": {},
   "outputs": [
    {
     "data": {
      "text/html": [
       "<div>\n",
       "<style scoped>\n",
       "    .dataframe tbody tr th:only-of-type {\n",
       "        vertical-align: middle;\n",
       "    }\n",
       "\n",
       "    .dataframe tbody tr th {\n",
       "        vertical-align: top;\n",
       "    }\n",
       "\n",
       "    .dataframe thead th {\n",
       "        text-align: right;\n",
       "    }\n",
       "</style>\n",
       "<table border=\"1\" class=\"dataframe\">\n",
       "  <thead>\n",
       "    <tr style=\"text-align: right;\">\n",
       "      <th></th>\n",
       "      <th>gene_ids</th>\n",
       "      <th>feature_types</th>\n",
       "      <th>genome</th>\n",
       "      <th>pattern</th>\n",
       "      <th>read</th>\n",
       "      <th>sequence</th>\n",
       "    </tr>\n",
       "  </thead>\n",
       "  <tbody>\n",
       "    <tr>\n",
       "      <th>MIR1302-2HG</th>\n",
       "      <td>ENSG00000243485</td>\n",
       "      <td>Gene Expression</td>\n",
       "      <td>GRCh38</td>\n",
       "      <td></td>\n",
       "      <td></td>\n",
       "      <td></td>\n",
       "    </tr>\n",
       "    <tr>\n",
       "      <th>FAM138A</th>\n",
       "      <td>ENSG00000237613</td>\n",
       "      <td>Gene Expression</td>\n",
       "      <td>GRCh38</td>\n",
       "      <td></td>\n",
       "      <td></td>\n",
       "      <td></td>\n",
       "    </tr>\n",
       "    <tr>\n",
       "      <th>OR4F5</th>\n",
       "      <td>ENSG00000186092</td>\n",
       "      <td>Gene Expression</td>\n",
       "      <td>GRCh38</td>\n",
       "      <td></td>\n",
       "      <td></td>\n",
       "      <td></td>\n",
       "    </tr>\n",
       "  </tbody>\n",
       "</table>\n",
       "</div>"
      ],
      "text/plain": [
       "                    gene_ids    feature_types  genome pattern read sequence\n",
       "MIR1302-2HG  ENSG00000243485  Gene Expression  GRCh38                      \n",
       "FAM138A      ENSG00000237613  Gene Expression  GRCh38                      \n",
       "OR4F5        ENSG00000186092  Gene Expression  GRCh38                      "
      ]
     },
     "execution_count": 12,
     "metadata": {},
     "output_type": "execute_result"
    }
   ],
   "source": [
    "adata.var[:3]"
   ]
  },
  {
   "cell_type": "code",
   "execution_count": 13,
   "id": "3a800263",
   "metadata": {},
   "outputs": [
    {
     "name": "stdout",
     "output_type": "stream",
     "text": [
      "<class 'list'>\n"
     ]
    }
   ],
   "source": [
    "# Use Python List comprehension to return a list of genes in the adata.var.index starting with 'MT-'\n",
    "mito_genes = [name for name in adata.var.index if name.startswith('MT-')]\n",
    "print(type(mito_genes))"
   ]
  },
  {
   "cell_type": "code",
   "execution_count": 40,
   "id": "94361a8a",
   "metadata": {},
   "outputs": [],
   "source": [
    "# .var_names is an alias for adata.var.index that you may see used. Likewise, adata.obs_names\n",
    "mito_genes = [name for name in adata.var_names if name.startswith('MT-')]\n"
   ]
  },
  {
   "cell_type": "code",
   "execution_count": 17,
   "id": "031949d0",
   "metadata": {},
   "outputs": [],
   "source": [
    "# You could also accomplish the same thing by subscripting (ie., using [ ]) to slice the index\n",
    "mito_genes = adata.var_names[adata.var_names.str.startswith('MT-')]"
   ]
  },
  {
   "cell_type": "markdown",
   "id": "c443e5e0",
   "metadata": {},
   "source": [
    "#### Compute the fraction mitochondrial"
   ]
  },
  {
   "cell_type": "code",
   "execution_count": 23,
   "id": "single-check",
   "metadata": {},
   "outputs": [
    {
     "data": {
      "text/plain": [
       "array([[ 60],\n",
       "       [ 13],\n",
       "       [ 16],\n",
       "       ...,\n",
       "       [182],\n",
       "       [ 79],\n",
       "       [181]])"
      ]
     },
     "execution_count": 23,
     "metadata": {},
     "output_type": "execute_result"
    }
   ],
   "source": [
    "adata[:,mito_genes].layers['counts'].sum(1).A"
   ]
  },
  {
   "cell_type": "code",
   "execution_count": 18,
   "id": "a4f221cc",
   "metadata": {},
   "outputs": [],
   "source": [
    "adata.obs['frac_mito'] = adata[:,mito_genes].layers['counts'].sum(1).A1 / adata.layers['counts'].sum(1).A1"
   ]
  },
  {
   "cell_type": "code",
   "execution_count": 41,
   "id": "c5b07a3d",
   "metadata": {},
   "outputs": [
    {
     "data": {
      "text/plain": [
       "<Axes: xlabel='Sample', ylabel='frac_mito'>"
      ]
     },
     "execution_count": 41,
     "metadata": {},
     "output_type": "execute_result"
    },
    {
     "data": {
      "image/png": "[encoded data removed]",
      "text/plain": [
       "<Figure size 320x320 with 1 Axes>"
      ]
     },
     "metadata": {
      "image/png": {
       "height": 300,
       "width": 326
      }
     },
     "output_type": "display_data"
    }
   ],
   "source": [
    "# Visualize the results using Seaborn\n",
    "\n",
    "sns.violinplot(data=adata.obs, x='Sample', y='frac_mito')\n",
    "\n",
    "# You can layer multiple plots on top of eachother.\n",
    "# Try removing the comment and see how this layers a 'stripplot' over the 'violinplot'\n",
    "#sns.stripplot(data=adata.obs, x='Sample', y='frac_mito', color='black', s=.5)"
   ]
  },
  {
   "cell_type": "markdown",
   "id": "prepared-laugh",
   "metadata": {},
   "source": [
    "### Checkpoint\n",
    "Make a backup of your largely unprocessed data here in case you want to come back to it later"
   ]
  },
  {
   "cell_type": "code",
   "execution_count": 18,
   "id": "2679c4d4",
   "metadata": {},
   "outputs": [],
   "source": [
    "unprocessed = adata.copy()"
   ]
  },
  {
   "cell_type": "markdown",
   "id": "seasonal-illinois",
   "metadata": {},
   "source": [
    "### Filter\n",
    "Apply a QC filter to get rid of cells with a high fraction of mitochondrial reads, indicating cell death"
   ]
  },
  {
   "cell_type": "code",
   "execution_count": 19,
   "id": "4c8fad1d",
   "metadata": {},
   "outputs": [],
   "source": [
    "adata = adata[adata.obs['frac_mito'] < 0.2].copy()"
   ]
  },
  {
   "cell_type": "markdown",
   "id": "49f456be",
   "metadata": {},
   "source": [
    "# Preprocessing and normalization\n",
    "By default, Scanpy takes a very simple and straightforward approach to normalizing the gene expression levels across cells in the dataset:\n",
    "\n",
    "\n",
    "$$ normCounts = (gene XCounts\\:/\\: totalCounts)\\: x \\:10^4$$\n",
    "\n",
    "This is a big topic, with a lot of opinions about whether you should use much fancier methods:  \n",
    "https://blog.bioturing.com/2022/01/27/a-guide-to-scrna-seq-normalization/  \n",
    "https://genomebiology.biomedcentral.com/articles/10.1186/s13059-019-1874-1  \n",
    "https://www.frontiersin.org/articles/10.3389/fgene.2020.00041/full"
   ]
  },
  {
   "cell_type": "code",
   "execution_count": 20,
   "id": "5926b662",
   "metadata": {},
   "outputs": [
    {
     "data": {
      "text/plain": [
       "AnnData object with n_obs × n_vars = 16591 × 36601\n",
       "    obs: 'Replicate', 'donor_id', 'prob_max', 'prob_doublet', 'n_vars', 'best_singlet', 'best_doublet', 'doublet_logLikRatio', 'Sample', 'n_counts', 'n_genes', 'logUMIs', 'frac_mito'\n",
       "    var: 'gene_ids', 'feature_types', 'genome', 'pattern', 'read', 'sequence'\n",
       "    uns: 'Replicate_colors', 'log1p'\n",
       "    layers: 'counts'"
      ]
     },
     "execution_count": 20,
     "metadata": {},
     "output_type": "execute_result"
    }
   ],
   "source": [
    "def preprocess(\n",
    "    adata,\n",
    "    target_sum=1e4,\n",
    "    exclude_highly_expressed=True,\n",
    "    max_fraction=0.05,\n",
    "    max_scale_value = 10, # Max Z score to a allow a cell to have for any gene\n",
    "    hvg_batch_key=None,\n",
    "    ):\n",
    "    \n",
    "    sc.pp.normalize_total(\n",
    "        adata,\n",
    "        target_sum=target_sum, # \"reads per 10k\" is the norm for single-cell data, for some reason\n",
    "        exclude_highly_expressed=exclude_highly_expressed, #If any cell is dominated by a given gene, exclude those from computing the normalization factor\n",
    "        max_fraction = max_fraction)\n",
    "\n",
    "    sc.pp.log1p(adata) # Adds a pseudocount of 1 to the matrix and takes the natural log\n",
    "\n",
    "    # saves the log-normalized counts to a daughter object.\n",
    "    # This will be called under the hood by differential expression and plotting tools\n",
    "    adata.raw = adata.copy()\n",
    "\n",
    "    return adata\n",
    "\n",
    "preprocess(adata)"
   ]
  },
  {
   "cell_type": "code",
   "execution_count": 21,
   "id": "sealed-browser",
   "metadata": {},
   "outputs": [
    {
     "ename": "NameError",
     "evalue": "name 'im' is not defined",
     "output_type": "error",
     "traceback": [
      "\u001b[0;31m---------------------------------------------------------------------------\u001b[0m",
      "\u001b[0;31mNameError\u001b[0m                                 Traceback (most recent call last)",
      "Cell \u001b[0;32mIn[21], line 1\u001b[0m\n\u001b[0;32m----> 1\u001b[0m \u001b[43mim\u001b[49m\n",
      "\u001b[0;31mNameError\u001b[0m: name 'im' is not defined"
     ]
    }
   ],
   "source": [
    "im"
   ]
  },
  {
   "cell_type": "code",
   "execution_count": 22,
   "id": "studied-button",
   "metadata": {},
   "outputs": [
    {
     "data": {
      "text/plain": [
       "'0.58.0'"
      ]
     },
     "execution_count": 22,
     "metadata": {},
     "output_type": "execute_result"
    }
   ],
   "source": [
    "import numba\n",
    "numba.__version__"
   ]
  },
  {
   "cell_type": "code",
   "execution_count": null,
   "id": "different-twenty",
   "metadata": {},
   "outputs": [],
   "source": [
    "sc.pp.highly_variable_genes(\n",
    "    adata,\n",
    "    n_top_genes=4000,\n",
    "    batch_key=None, # Note, you could use 'Library_ID' here to apply a mild form of batch correction\n",
    "    flavor='seurat',\n",
    ")"
   ]
  },
  {
   "cell_type": "code",
   "execution_count": null,
   "id": "latin-grass",
   "metadata": {},
   "outputs": [],
   "source": [
    "sc.pp.highly_variable_genes(\n",
    "    adata,\n",
    "    n_top_genes=4000,\n",
    "    batch_key=None, # Note, you could use 'Library_ID' here to apply a mild form of batch correction\n",
    "    flavor='seurat')"
   ]
  },
  {
   "cell_type": "markdown",
   "id": "a84c7cf7",
   "metadata": {},
   "source": [
    "### Highly variable gene selection"
   ]
  },
  {
   "cell_type": "code",
   "execution_count": null,
   "id": "848eaefd",
   "metadata": {},
   "outputs": [
    {
     "name": "stderr",
     "output_type": "stream",
     "text": [
      "OMP: Info #276: omp_set_nested routine deprecated, please use omp_set_max_active_levels instead.\n"
     ]
    }
   ],
   "source": [
    "# This should be done on the log-normalized data.\n",
    "sc.pp.highly_variable_genes(\n",
    "    adata,\n",
    "    n_top_genes=4000,\n",
    "    batch_key=None, # Note, you could use 'Library_ID' here to apply a mild form of batch correction\n",
    "    flavor='seurat')\n",
    "\n",
    "mito_genes = adata.var_names.str.startswith((\"MT-\"))\n",
    "ribo_genes = adata.var_names.str.startswith((\"RPS\",\"RPL\"))\n",
    "\n",
    "\n",
    "print(\"Masking ribosomal and mitochondrial genes from highly variable...\")\n",
    "adata.var.highly_variable = adata.var.highly_variable.mask(ribo_genes, False)\n",
    "adata.var.highly_variable = adata.var.highly_variable.mask(mito_genes, False)\n"
   ]
  },
  {
   "cell_type": "code",
   "execution_count": null,
   "id": "bc755f7c",
   "metadata": {},
   "outputs": [],
   "source": [
    "adata.var.query('highly_variable == True')\n"
   ]
  },
  {
   "cell_type": "markdown",
   "id": "2a757fb4",
   "metadata": {},
   "source": [
    "# Dimensionality Reduction"
   ]
  },
  {
   "cell_type": "code",
   "execution_count": null,
   "id": "8d2c96bc",
   "metadata": {},
   "outputs": [],
   "source": [
    "def reduce_dimensions(\n",
    "    adata,\n",
    "    max_scale_value = 10,\n",
    "    n_top_genes = 4000,\n",
    "    use_highly_variable=True):\n",
    "    \n",
    "    # Z-score scale and centering raw data \n",
    "    # This is required for \n",
    "    sc.pp.scale(adata, max_value=max_scale_value)\n",
    "\n",
    "    sc.pp.pca(adata, \n",
    "              #use_highly_variable=use_highly_variable, # deprecate, will eventually be removed\n",
    "             mask_var='highly_variable', # the new preferred way to apply a mask\n",
    "             )\n",
    "    sc.pl.pca_variance_ratio(adata, log=True)\n",
    "    \n",
    "    return adata\n",
    "\n",
    "reduce_dimensions(adata)"
   ]
  },
  {
   "cell_type": "markdown",
   "id": "ce6f06b0",
   "metadata": {},
   "source": [
    "## Select number of PCs to use for clustering and visualization"
   ]
  },
  {
   "cell_type": "code",
   "execution_count": null,
   "id": "d6cb6eb8",
   "metadata": {},
   "outputs": [],
   "source": [
    "n_pcs=20"
   ]
  },
  {
   "cell_type": "markdown",
   "id": "60b14723",
   "metadata": {},
   "source": [
    "## A quick pause to visualize what our data currently looks like:"
   ]
  },
  {
   "cell_type": "code",
   "execution_count": null,
   "id": "b4e268fa",
   "metadata": {},
   "outputs": [],
   "source": [
    "gene='RPL6'\n",
    "\n",
    "\n",
    "fig, ax = pl.subplots(\n",
    "    3, # number of rows\n",
    "    1, # number columns\n",
    "    figsize=[8,6],\n",
    "    )\n",
    "\n",
    "ax[0] = sns.distplot(adata[:,gene].layers['counts'].toarray(), label='UMI counts', ax=ax[0])\n",
    "ax[0].set_xlabel('Raw UMI counts')\n",
    "ax[0].legend()\n",
    "\n",
    "ax[1] = sns.distplot(adata.raw[:,gene].X.toarray(), label='raw.X (logNorm)', ax=ax[1])\n",
    "ax[1].set_xlabel('log-normalized counts')\n",
    "ax[1].legend()\n",
    "\n",
    "ax[2] = sns.distplot(adata[:,gene].X, label='X (scaled)', ax=ax[2])\n",
    "ax[2].set_xlabel('scaled counts')\n",
    "ax[2].legend()\n",
    "\n",
    "pl.suptitle(gene)\n",
    "pl.tight_layout()"
   ]
  },
  {
   "cell_type": "markdown",
   "id": "df01283f",
   "metadata": {},
   "source": [
    "## Cluster cells\n",
    "To identify cell clusters, we must first compute a neighbor graph. The first step of this is to compute all pairwise distances between cells in the dataset.  In the picture below, it is easy to imagine how to compute the distance between two points on the 2D plane.  For us, we are computing the graph in higher dimensions. Using all ~30k genes in the dataset would be crazy.  Instead, we are using the reduced dimension space we just computed via PCA to calculate these distances.  \n",
    "\n",
    "The neighbor graph algorithm then figures out which cells are connected to which. Usually, the graph is pruned down to only the closest \"K\" nearest neighbors, hence the common name 'knn' graphs.  Scanpy uses a default of **knn=15**\n",
    "\n",
    "The clustering algorithm uses a form of <a href=\"https://timoast.github.io/blog/community-detection/\"> community detection via modularity optimization </a>. Basically, it tries to enclose communities of cells in bubbles, checks to see how many close neighbors got assigned to the same vs different bubbles, and then keeps tweaking those bubbles until it can't do any better at grouping like cells together."
   ]
  },
  {
   "cell_type": "markdown",
   "id": "180f27a0",
   "metadata": {},
   "source": [
    "<img src='https://miro.medium.com/max/738/1*skhjgApyDIPbJNolIZCF5w.png' width=300 align=left>"
   ]
  },
  {
   "cell_type": "code",
   "execution_count": null,
   "id": "7e15e318",
   "metadata": {},
   "outputs": [],
   "source": [
    "\n",
    "sc.pp.neighbors(\n",
    "    adata,\n",
    "    #n_neighbors = 15, # default=15\n",
    "    n_pcs = n_pcs,\n",
    "    #metric = 'euclidean' # there are lots of possible distance metrics.  Try 'cityblock' or 'cosine'\n",
    ")\n",
    "\n",
    "# Clustering by Leiden modularity optimization\n",
    "sc.tl.leiden(\n",
    "    adata,\n",
    "    resolution=0.5, # Try playing with this!\n",
    "    key_added='Cluster' # This is the key that will appear in adata.obs with the new cluster names\n",
    "    # You can repeat clustering again and again and give it a new key name each time, if you want\n",
    ")\n"
   ]
  },
  {
   "cell_type": "markdown",
   "id": "25e7fed4",
   "metadata": {},
   "source": [
    "## Nonlinear Dimensionality Reduction"
   ]
  },
  {
   "cell_type": "markdown",
   "id": "ed823a3c",
   "metadata": {},
   "source": [
    "PCA helped reduce our dimensionality from ~30,000 down to ~50, but unfortunately our computer screens only easily display 2 dimensions.  \n",
    "**tSNE** and **UMAP** are two commonly used to bring the number of dimensions down to 2 for visualization purposes. Keep in mind that the non-linearity of these methods means they are generally not very useful analytical tools.  Again, they are for *visualization*.  \n",
    "\n",
    "**Which to use?**\n",
    "UMAP has become more standard because it tends to better preserve global relationship between cell types. That is, very different cell types stay far away from one another, while similar cells are kind of packed in amorphously.  tSNE prioritizes local structure, emphasizing 'sub-cluster-level' details. But scRNA-seq data is so noisy, that focusing on these minute details is probably a waste of time.\n",
    "\n",
    "<a href='https://pair-code.github.io/understanding-umap/'> Here is a super fun interactive explanation of the differences between UMAP and tSNE </a>\n"
   ]
  },
  {
   "cell_type": "code",
   "execution_count": null,
   "id": "d055f55a",
   "metadata": {},
   "outputs": [],
   "source": [
    "# Compute tSNE projection\n",
    "sc.tl.tsne(adata)\n",
    "\n",
    "# Compute UMAP projection\n",
    "sc.tl.umap(adata)"
   ]
  },
  {
   "cell_type": "code",
   "execution_count": null,
   "id": "6f670c31",
   "metadata": {},
   "outputs": [],
   "source": [
    "sc.pl.tsne(adata, color='Cluster')"
   ]
  },
  {
   "cell_type": "code",
   "execution_count": null,
   "id": "a23d3caa",
   "metadata": {},
   "outputs": [],
   "source": [
    "sc.pl.umap(adata, color='Cluster')\n",
    "sc.pl.umap(adata, color='Replicate')"
   ]
  },
  {
   "cell_type": "markdown",
   "id": "483c4962",
   "metadata": {},
   "source": [
    "## Filter cells"
   ]
  },
  {
   "cell_type": "code",
   "execution_count": null,
   "id": "bae62ef4",
   "metadata": {},
   "outputs": [],
   "source": [
    "backup = adata.copy()"
   ]
  },
  {
   "cell_type": "code",
   "execution_count": null,
   "id": "5f41a804",
   "metadata": {},
   "outputs": [],
   "source": [
    "filter1 = adata.obs['n_counts'] > 600\n",
    "filter2 = adata.obs['frac_mito'] < 0.2\n",
    "adata.obs['OK']  = (filter1&filter2).astype('str')\n",
    "adata.uns['OK_colors'] = ['#EE0000','#EEEEEE']\n",
    "sc.pl.umap(adata, color=['frac_mito', 'logUMIs','OK'])"
   ]
  },
  {
   "cell_type": "code",
   "execution_count": null,
   "id": "b7ebd2d2",
   "metadata": {},
   "outputs": [],
   "source": [
    "adata = adata[adata.obs['OK'] == \"True\"].copy()\n",
    "adata"
   ]
  },
  {
   "cell_type": "code",
   "execution_count": null,
   "id": "1fae7649",
   "metadata": {},
   "outputs": [],
   "source": [
    "def redo_pca_cluster(\n",
    "    adata: sc.AnnData,\n",
    "    key_added: str = 'Subset_Cluster',\n",
    "    n_pcs: int = 50,\n",
    "    min_cells: int = 1,\n",
    "    cluster_resolution: float = 0.5,\n",
    "    n_top_genes: int = 4000,\n",
    "    exclude_highly_expressed: bool = True,\n",
    "    use_highly_variable: bool = True,\n",
    "    hvg_batch_key=None,\n",
    "    scale: bool = True,\n",
    "    max_scale_value: int = 10,\n",
    "    n_neighbors: int=15,\n",
    "    use_local: bool = False,\n",
    "    random_state: int = 0,\n",
    "    ):\n",
    "\n",
    "    print(\"Reclustering...\")\n",
    "    print(\"Using arguments:\")\n",
    "    print(\"n_pcs = \",n_pcs)\n",
    "    #print(\"min_genes = \",min_genes)\n",
    "    #print(\"min_counts = \",min_counts)\n",
    "    print(\"min_cells = \",min_cells)\n",
    "    print(\"cluster_resolution = \",cluster_resolution)\n",
    "    print(\"n_top_genes = \",n_top_genes)\n",
    "    print(\"use_highly_variable = \",use_highly_variable)\n",
    "\n",
    "    print('Restoring raw counts from adata.layers[\\'counts\\']')\n",
    "    adata.X = adata.layers['counts']\n",
    "\n",
    "    sc.pp.normalize_total(\n",
    "        adata,\n",
    "        target_sum=1e4,\n",
    "        exclude_highly_expressed=exclude_highly_expressed,\n",
    "        key_added='Norm_Factor')\n",
    "\n",
    "    print ('Log transforming...')\n",
    "    sc.pp.log1p(adata)\n",
    "    print ('Saving normalized log-transformed data to .raw')\n",
    "    adata.raw = adata.copy()\n",
    "    print('Done.')\n",
    "\n",
    "    if use_highly_variable:\n",
    "        print(\"Computing Highly Variable Genes with n_top_genes = {}...\".format(n_top_genes))\n",
    "        sc.pp.highly_variable_genes(\n",
    "            adata,\n",
    "            n_top_genes=n_top_genes,\n",
    "            batch_key=hvg_batch_key)\n",
    "\n",
    "    else:\n",
    "        if scale==True:\n",
    "            print()\n",
    "            print(\"Scaling .X layer to Z-scores with a max value of {}\".format(max_scale_value))\n",
    "            sc.pp.scale(adata, max_value=max_scale_value)\n",
    "\n",
    "    print(\"PCA...\")\n",
    "    sc.pp.pca(adata, use_highly_variable=use_highly_variable, random_state=random_state)\n",
    "\n",
    "    print(\"Computing KNN graph with n_pcs = {}...\".format(n_pcs))\n",
    "    sc.pp.neighbors(\n",
    "        adata,\n",
    "        n_pcs=n_pcs,\n",
    "        n_neighbors=n_neighbors,\n",
    "        random_state=random_state)\n",
    "\n",
    "    #print(\"Computing UMAP...\")\n",
    "    sc.tl.umap(adata, random_state=random_state)\n",
    "\n",
    "    print(\"Clustering by Leiden Modularity Optimization, cluster_resolution = {}...new clusters will be named: {}\".format(cluster_resolution,key_added))\n",
    "    sc.tl.leiden(adata,resolution=cluster_resolution, key_added=key_added, random_state=random_state)\n",
    "\n",
    "    sc.pl.umap(adata, color=key_added)"
   ]
  },
  {
   "cell_type": "code",
   "execution_count": null,
   "id": "71e2626f",
   "metadata": {},
   "outputs": [],
   "source": [
    "redo_pca_cluster(adata)"
   ]
  },
  {
   "cell_type": "markdown",
   "id": "069c52da",
   "metadata": {},
   "source": [
    "## Batch correction with Harmony"
   ]
  },
  {
   "cell_type": "markdown",
   "id": "6644cbf7",
   "metadata": {},
   "source": [
    "<img src=\"https://media.springernature.com/lw685/springer-static/image/art%3A10.1038%2Fs41592-019-0619-0/MediaObjects/41592_2019_619_Fig1_HTML.png?as=webp\" align=left>  "
   ]
  },
  {
   "cell_type": "markdown",
   "id": "tutorial-palestine",
   "metadata": {},
   "source": [
    "<img src=\"https://i.imgur.com/eAPbMJN.gif\" width=300 align=left>  "
   ]
  },
  {
   "cell_type": "markdown",
   "id": "c0fb1e57",
   "metadata": {},
   "source": [
    "\n",
    "\n",
    "<a href=\"https://www.nature.com/articles/s41592-019-0619-0\"> Harmony paper by Korsunsky et al </a>"
   ]
  },
  {
   "cell_type": "code",
   "execution_count": null,
   "id": "b4f1a67e",
   "metadata": {},
   "outputs": [],
   "source": [
    "def harmony(adata,\n",
    "    batch_key='Sample',\n",
    "    theta: float = 4, #harmony docs use 2.0 as default\n",
    "    ridge_lambda: float = 1.0, #default\n",
    "    sigma: float = 0.1, #default\n",
    "    tau: int = 0, #default\n",
    "    block_proportion: float = 0.05, #default\n",
    "    max_iter_harmony=15,\n",
    "    random_state=42,\n",
    "    n_clusters_harmony: int = None,\n",
    "    use_gpu=False,\n",
    "    cluster_and_umap=True,\n",
    "    key_added='Cluster_harmony',\n",
    "    n_pcs=None,\n",
    "    ):\n",
    "    \n",
    "    \n",
    "    #requires pip install harmony-pytorch\n",
    "    from harmony import harmonize\n",
    "\n",
    "    if n_pcs:\n",
    "        X = adata.obsm['X_pca'][:,:n_pcs]\n",
    "    else:\n",
    "        X = adata.obsm['X_pca']\n",
    "    print('Computing harmonized PCA using {} PCs...'.format(X.shape[1]))\n",
    "    Z = harmonize(\n",
    "        X,\n",
    "        adata.obs,\n",
    "        batch_key = batch_key,\n",
    "        max_iter_harmony=max_iter_harmony,\n",
    "        random_state=random_state,\n",
    "        use_gpu=use_gpu,\n",
    "        theta=theta,\n",
    "        ridge_lambda=ridge_lambda,\n",
    "        sigma=sigma,\n",
    "        tau=tau,\n",
    "        n_clusters=n_clusters_harmony,\n",
    "        block_proportion = block_proportion,\n",
    "    )\n",
    "    adata.obsm['X_harmony'] = Z\n",
    "    print('Storing harmonized PCA in adata.obsm[\\'X_harmony\\']')\n",
    "\n",
    "    if cluster_and_umap:\n",
    "        sc.pp.neighbors(adata, use_rep='X_harmony', random_state=random_state)\n",
    "        sc.tl.umap(adata, random_state=random_state)\n",
    "        sc.tl.leiden(adata, resolution=0.5, key_added=key_added, random_state=random_state)\n",
    "        sc.pl.umap(adata, color=key_added)"
   ]
  },
  {
   "cell_type": "code",
   "execution_count": null,
   "id": "38f37693",
   "metadata": {},
   "outputs": [],
   "source": [
    "harmony(adata, batch_key='Library_ID')"
   ]
  },
  {
   "cell_type": "code",
   "execution_count": null,
   "id": "eb02c00c",
   "metadata": {},
   "outputs": [],
   "source": [
    "sc.tl.umap(adata, min_dist=0.3)"
   ]
  },
  {
   "cell_type": "code",
   "execution_count": null,
   "id": "f8c78a33",
   "metadata": {},
   "outputs": [],
   "source": [
    "jpplot.umap_interactive(adata)"
   ]
  },
  {
   "cell_type": "code",
   "execution_count": null,
   "id": "38132228",
   "metadata": {},
   "outputs": [],
   "source": [
    "sc.pl.dotplot(adata, groupby='Sample', var_names=['XIST'])"
   ]
  },
  {
   "cell_type": "markdown",
   "id": "7e6bbb28",
   "metadata": {},
   "source": [
    "# Cell Type Annotation\n",
    "Chuan Xu, Martin Prete, Simone Webb, Laura Jardine, Benjamin J. Stewart, Regina Hoo, Peng He, Kerstin Meyer, Sarah A. Teichmann  \n",
    "Automatic cell type harmonization and integration across Human Cell Atlas datasets.  \n",
    "[bioRxiv 2023.05.01.538994 (2023)](https://www.biorxiv.org/content/10.1101/2023.05.01.538994v2)"
   ]
  },
  {
   "cell_type": "markdown",
   "id": "521fcf20",
   "metadata": {},
   "source": [
    "<a href=\"https://www.celltypist.org/\">\n",
    "    <img src=\"https://www.celltypist.org/static/images/logo_celltypist.png\" alt=\"CellTypist\" style=\"width: 300px; float: left;\"/>\n",
    "</a>\n"
   ]
  },
  {
   "cell_type": "code",
   "execution_count": null,
   "id": "a9da9ed2",
   "metadata": {},
   "outputs": [],
   "source": [
    "import celltypist\n",
    "from celltypist import models"
   ]
  },
  {
   "cell_type": "code",
   "execution_count": null,
   "id": "71ce69d3",
   "metadata": {},
   "outputs": [],
   "source": [
    "#Show all available models that can be downloaded and used.\n",
    "models.models_description()\n"
   ]
  },
  {
   "cell_type": "code",
   "execution_count": null,
   "id": "3d2c9a04",
   "metadata": {},
   "outputs": [],
   "source": [
    "#Show all available models that can be downloaded and used.\n",
    "models.models_description()\n",
    "\n",
    "#Download a list of models, for example, `Immune_All_Low.pkl` and `Immune_All_High.pkl`.\n",
    "models.download_models(model = ['Immune_All_Low.pkl', 'Immune_All_High.pkl'])\n"
   ]
  },
  {
   "cell_type": "code",
   "execution_count": null,
   "id": "5b4823ff",
   "metadata": {},
   "outputs": [],
   "source": [
    "#Show the local directory storing these models.\n",
    "jpplot.ls(models.models_path)"
   ]
  },
  {
   "cell_type": "code",
   "execution_count": null,
   "id": "e461d454",
   "metadata": {},
   "outputs": [],
   "source": [
    "#Select the model from the above list. If the `model` argument is not provided, will default to `Immune_All_Low.pkl`.\n",
    "model = models.Model.load(model = 'Immune_All_Low.pkl')\n"
   ]
  },
  {
   "cell_type": "code",
   "execution_count": null,
   "id": "9d495b04",
   "metadata": {},
   "outputs": [],
   "source": [
    "#The model summary information.\n",
    "model\n"
   ]
  },
  {
   "cell_type": "code",
   "execution_count": null,
   "id": "e3dfcfbe",
   "metadata": {},
   "outputs": [],
   "source": [
    "#Examine cell types contained in the model.\n",
    "model.cell_types\n"
   ]
  },
  {
   "cell_type": "code",
   "execution_count": null,
   "id": "c2f0b9ab",
   "metadata": {},
   "outputs": [],
   "source": [
    "#Examine genes/features contained in the model.\n",
    "print(model.features)\n",
    "print('Number of features:', len(model.features))"
   ]
  },
  {
   "cell_type": "code",
   "execution_count": null,
   "id": "de85902d",
   "metadata": {},
   "outputs": [],
   "source": [
    "\n",
    "adata.layers['TP10K'] = adata.layers['counts'].multiply(1e4 / adata.layers['counts'].sum(1))\n",
    "adata.layers['TP10K'] = np.log1p(adata.layers['TP10K'])\n",
    "\n",
    "from scipy import sparse\n",
    "adata.layers['TP10K'] = sparse.csr_matrix(adata.layers['TP10K'])\n",
    "\n"
   ]
  },
  {
   "cell_type": "code",
   "execution_count": null,
   "id": "4ad035a1",
   "metadata": {},
   "outputs": [],
   "source": [
    "adata_celltypist = adata.copy()\n",
    "adata_celltypist.X = adata_celltypist.layers['TP10K']\n",
    "\n",
    "predictions = celltypist.annotate(adata_celltypist, \n",
    "                                  model = 'Immune_All_Low.pkl',\n",
    "                                  majority_voting=True)"
   ]
  },
  {
   "cell_type": "code",
   "execution_count": null,
   "id": "7a4407f2",
   "metadata": {},
   "outputs": [],
   "source": [
    "predictions.predicted_labels"
   ]
  },
  {
   "cell_type": "code",
   "execution_count": null,
   "id": "8861e1f8",
   "metadata": {},
   "outputs": [],
   "source": [
    "adata.obs['Predicted_Cell_Type'] = predictions.predicted_labels['predicted_labels']\n",
    "\n",
    "\n",
    "sc.settings.set_figure_params(dpi=200)\n",
    "sc.pl.umap(adata, color='Predicted_Cell_Type',\n",
    "          #legend_loc='on data',\n",
    "          #legend_fontsize=6,\n",
    "          #legend_fontoutline=2\n",
    "          )\n",
    "sc.settings.set_figure_params(dpi=80)"
   ]
  },
  {
   "cell_type": "code",
   "execution_count": null,
   "id": "1ca5e3b6",
   "metadata": {},
   "outputs": [],
   "source": [
    "adata.obs['Cell_Type'] = predictions.predicted_labels['majority_voting']\n",
    "\n",
    "\n",
    "sc.pl.umap(adata, color='Cell_Type',\n",
    "          legend_loc='on data',\n",
    "          legend_fontsize=6,\n",
    "          legend_fontoutline=2)\n"
   ]
  },
  {
   "cell_type": "code",
   "execution_count": null,
   "id": "3c2559ab",
   "metadata": {},
   "outputs": [],
   "source": [
    "pd.crosstab(adata.obs['Replicate'], adata.obs['Cell_Type']).T"
   ]
  },
  {
   "cell_type": "code",
   "execution_count": null,
   "id": "3b377adb",
   "metadata": {},
   "outputs": [],
   "source": [
    "sc.tl.rank_genes_groups(adata, groupby='Cell_Type')"
   ]
  },
  {
   "cell_type": "code",
   "execution_count": null,
   "id": "27fd973b",
   "metadata": {},
   "outputs": [],
   "source": [
    "sc.pl.rank_genes_groups_dotplot(adata, n_genes=2,)"
   ]
  },
  {
   "cell_type": "markdown",
   "id": "ecc6ec01",
   "metadata": {},
   "source": [
    "## Make some plots!\n",
    "Take a look at the documentation and see what other kinds of plots are available:  \n",
    "### [Scanpy Plotting Manual](https://scanpy-tutorials.readthedocs.io/en/latest/plotting/core.html)"
   ]
  },
  {
   "cell_type": "code",
   "execution_count": null,
   "id": "47c1970c",
   "metadata": {},
   "outputs": [],
   "source": [
    "https://scanpy-tutorials.readthedocs.io/en/latest/plotting/core.html"
   ]
  }
 ],
 "metadata": {
  "kernelspec": {
   "display_name": "SeqTech24",
   "language": "python",
   "name": "seqtech24"
  },
  "language_info": {
   "codemirror_mode": {
    "name": "ipython",
    "version": 3
   },
   "file_extension": ".py",
   "mimetype": "text/x-python",
   "name": "python",
   "nbconvert_exporter": "python",
   "pygments_lexer": "ipython3",
   "version": "3.10.15"
  }
 },
 "nbformat": 4,
 "nbformat_minor": 5
}
